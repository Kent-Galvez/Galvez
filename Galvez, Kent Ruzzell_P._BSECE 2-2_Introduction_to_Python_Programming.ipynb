{
  "nbformat": 4,
  "nbformat_minor": 0,
  "metadata": {
    "colab": {
      "name": "Untitled0.ipynb",
      "provenance": [],
      "authorship_tag": "ABX9TyM2SiuaQVGonukdy3bCn4M7",
      "include_colab_link": true
    },
    "kernelspec": {
      "name": "python3",
      "display_name": "Python 3"
    },
    "language_info": {
      "name": "python"
    }
  },
  "cells": [
    {
      "cell_type": "markdown",
      "metadata": {
        "id": "view-in-github",
        "colab_type": "text"
      },
      "source": [
        "<a href=\"https://colab.research.google.com/github/Kent-Galvez/Galvez/blob/main/Galvez%2C%20Kent%20Ruzzell_P._BSECE%202-2_Introduction_to_Python_Programming.ipynb\" target=\"_parent\"><img src=\"https://colab.research.google.com/assets/colab-badge.svg\" alt=\"Open In Colab\"/></a>"
      ]
    },
    {
      "cell_type": "code",
      "metadata": {
        "colab": {
          "base_uri": "https://localhost:8080/"
        },
        "id": "BZaApGNluXiI",
        "outputId": "2e229364-a4f3-4888-a4cf-9fd259aafe88"
      },
      "source": [
        "print(\"Welcome To Python Programming.\")"
      ],
      "execution_count": 2,
      "outputs": [
        {
          "output_type": "stream",
          "name": "stdout",
          "text": [
            "Welcome To Python Programming.\n"
          ]
        }
      ]
    },
    {
      "cell_type": "code",
      "metadata": {
        "colab": {
          "base_uri": "https://localhost:8080/"
        },
        "id": "taFo_0sfu_v9",
        "outputId": "d1f88452-70dd-4b53-d56a-c554a13ed80a"
      },
      "source": [
        "b = \"Sally\"\n",
        "print(b)"
      ],
      "execution_count": 5,
      "outputs": [
        {
          "output_type": "stream",
          "name": "stdout",
          "text": [
            "Sally\n"
          ]
        }
      ]
    },
    {
      "cell_type": "code",
      "metadata": {
        "colab": {
          "base_uri": "https://localhost:8080/"
        },
        "id": "aNHcNyT2vHSk",
        "outputId": "419c77a0-e10e-4aaa-92ec-65a50254a23d"
      },
      "source": [
        "b = int(4)\n",
        "print(b)"
      ],
      "execution_count": 7,
      "outputs": [
        {
          "output_type": "stream",
          "name": "stdout",
          "text": [
            "4\n"
          ]
        }
      ]
    },
    {
      "cell_type": "code",
      "metadata": {
        "colab": {
          "base_uri": "https://localhost:8080/"
        },
        "id": "_m4y4UlLvNEX",
        "outputId": "d3b0c0b0-c15c-481a-b924-c302cbb5dfc2"
      },
      "source": [
        "b = float(4)\n",
        "print(round((b),3))"
      ],
      "execution_count": 11,
      "outputs": [
        {
          "output_type": "stream",
          "name": "stdout",
          "text": [
            "4.0\n"
          ]
        }
      ]
    },
    {
      "cell_type": "code",
      "metadata": {
        "colab": {
          "base_uri": "https://localhost:8080/"
        },
        "id": "y74i-FCHvj64",
        "outputId": "9564f01b-10a6-4b07-daa0-33384aa3e438"
      },
      "source": [
        "x = 5\n",
        "y = (\"John\")\n",
        "print(type(x))\n",
        "print(type(y))"
      ],
      "execution_count": 12,
      "outputs": [
        {
          "output_type": "stream",
          "name": "stdout",
          "text": [
            "<class 'int'>\n",
            "<class 'str'>\n"
          ]
        }
      ]
    },
    {
      "cell_type": "code",
      "metadata": {
        "colab": {
          "base_uri": "https://localhost:8080/"
        },
        "id": "oKKDB1Ryv3VZ",
        "outputId": "b9c8c75e-46f0-46fb-e054-35f7877b9397"
      },
      "source": [
        "a=4\n",
        "A=\"Sally\"\n",
        "print(a)\n",
        "print(A)"
      ],
      "execution_count": 14,
      "outputs": [
        {
          "output_type": "stream",
          "name": "stdout",
          "text": [
            "4\n",
            "Sally\n"
          ]
        }
      ]
    },
    {
      "cell_type": "code",
      "metadata": {
        "colab": {
          "base_uri": "https://localhost:8080/"
        },
        "id": "OBJewp1LwCfy",
        "outputId": "d9e2ee7f-e7dc-4d07-e935-a7fea2cf21b7"
      },
      "source": [
        "x,y,z=\"one\",\"two\",\"three\"\n",
        "print(x)\n",
        "print(y)\n",
        "print(z)"
      ],
      "execution_count": 13,
      "outputs": [
        {
          "output_type": "stream",
          "name": "stdout",
          "text": [
            "one\n",
            "two\n",
            "three\n"
          ]
        }
      ]
    },
    {
      "cell_type": "code",
      "metadata": {
        "colab": {
          "base_uri": "https://localhost:8080/"
        },
        "id": "m62vKykgwidc",
        "outputId": "d8b63259-b0bd-415e-a144-fee6595bae2d"
      },
      "source": [
        "x=y=z=\"Four\"\n",
        "print(x)\n",
        "print(z)\n",
        "print(y)"
      ],
      "execution_count": 16,
      "outputs": [
        {
          "output_type": "stream",
          "name": "stdout",
          "text": [
            "Four\n",
            "Four\n",
            "Four\n"
          ]
        }
      ]
    },
    {
      "cell_type": "code",
      "metadata": {
        "colab": {
          "base_uri": "https://localhost:8080/"
        },
        "id": "U9RyGxudwvnB",
        "outputId": "5322657d-d07d-42c3-d352-d253c64cea83"
      },
      "source": [
        "x=(\"enjoying\")\n",
        "print(\"Programming is \"+ x)"
      ],
      "execution_count": 17,
      "outputs": [
        {
          "output_type": "stream",
          "name": "stdout",
          "text": [
            "Programming is enjoying\n"
          ]
        }
      ]
    },
    {
      "cell_type": "code",
      "metadata": {
        "colab": {
          "base_uri": "https://localhost:8080/"
        },
        "id": "2EFrvFHvw5Ki",
        "outputId": "a707f90e-cb09-48d7-a7b3-3217df91df54"
      },
      "source": [
        "x=(\"Python is\")\n",
        "y=(\" enjoying\")\n",
        "z= x + y\n",
        "print(z)"
      ],
      "execution_count": 19,
      "outputs": [
        {
          "output_type": "stream",
          "name": "stdout",
          "text": [
            "Python is enjoying\n"
          ]
        }
      ]
    },
    {
      "cell_type": "code",
      "metadata": {
        "colab": {
          "base_uri": "https://localhost:8080/"
        },
        "id": "6gIoVxjExKTY",
        "outputId": "69480626-4614-42b7-887f-0cc9712056b8"
      },
      "source": [
        "x=5\n",
        "y=4\n",
        "z=y-x\n",
        "print(z)"
      ],
      "execution_count": 20,
      "outputs": [
        {
          "output_type": "stream",
          "name": "stdout",
          "text": [
            "-1\n"
          ]
        }
      ]
    },
    {
      "cell_type": "code",
      "metadata": {
        "colab": {
          "base_uri": "https://localhost:8080/"
        },
        "id": "NRVR-7zXxUnS",
        "outputId": "fa3cef7c-c70e-45b8-b9ac-8dff14f63644"
      },
      "source": [
        "x+=1\n",
        "print(x)"
      ],
      "execution_count": 21,
      "outputs": [
        {
          "output_type": "stream",
          "name": "stdout",
          "text": [
            "6\n"
          ]
        }
      ]
    },
    {
      "cell_type": "code",
      "metadata": {
        "colab": {
          "base_uri": "https://localhost:8080/"
        },
        "id": "MbjI_tQ4xreL",
        "outputId": "d27a95df-0cb4-4ec3-ea7b-bb5a150200f7"
      },
      "source": [
        "a,b,c=0,-1,8\n",
        "c%=3\n",
        "b%=5\n",
        "print(int(c))"
      ],
      "execution_count": 22,
      "outputs": [
        {
          "output_type": "stream",
          "name": "stdout",
          "text": [
            "2\n"
          ]
        }
      ]
    },
    {
      "cell_type": "code",
      "metadata": {
        "colab": {
          "base_uri": "https://localhost:8080/"
        },
        "id": "LegU3r-Ux1yq",
        "outputId": "ed7c1aa8-e7d1-46fc-d46b-eb472c0f16ed"
      },
      "source": [
        "x=5\n",
        "x<6 and x<10"
      ],
      "execution_count": 23,
      "outputs": [
        {
          "output_type": "execute_result",
          "data": {
            "text/plain": [
              "True"
            ]
          },
          "metadata": {},
          "execution_count": 23
        }
      ]
    },
    {
      "cell_type": "code",
      "metadata": {
        "colab": {
          "base_uri": "https://localhost:8080/"
        },
        "id": "QtRVkXqVx8w0",
        "outputId": "8ffcfd48-002b-4373-de2a-3901055f4052"
      },
      "source": [
        "x=5\n",
        "not(x>5 or x>10)"
      ],
      "execution_count": 24,
      "outputs": [
        {
          "output_type": "execute_result",
          "data": {
            "text/plain": [
              "True"
            ]
          },
          "metadata": {},
          "execution_count": 24
        }
      ]
    },
    {
      "cell_type": "code",
      "metadata": {
        "colab": {
          "base_uri": "https://localhost:8080/"
        },
        "id": "OAAO19vgyDDi",
        "outputId": "369e8a3a-3c74-47b9-d286-21669cfe047e"
      },
      "source": [
        "y=5\n",
        "y>5 ^ y<10"
      ],
      "execution_count": 28,
      "outputs": [
        {
          "output_type": "execute_result",
          "data": {
            "text/plain": [
              "True"
            ]
          },
          "metadata": {},
          "execution_count": 28
        }
      ]
    },
    {
      "cell_type": "code",
      "metadata": {
        "colab": {
          "base_uri": "https://localhost:8080/"
        },
        "id": "PVQL0YMHyMnE",
        "outputId": "c0bf726b-9cbd-4cb3-af54-17b340ed79b4"
      },
      "source": [
        "x is y\n",
        "x is not y"
      ],
      "execution_count": 26,
      "outputs": [
        {
          "output_type": "execute_result",
          "data": {
            "text/plain": [
              "False"
            ]
          },
          "metadata": {},
          "execution_count": 26
        }
      ]
    }
  ]
}